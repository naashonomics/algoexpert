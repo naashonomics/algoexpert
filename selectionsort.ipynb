{
 "cells": [
  {
   "cell_type": "markdown",
   "metadata": {},
   "source": [
    "# Selection Sort \n",
    "https://www.algoexpert.io/questions/Selection%20Sort"
   ]
  },
  {
   "cell_type": "raw",
   "metadata": {},
   "source": [
    "Psedo Code\n",
    "SelectionSort(array)\n",
    "    for i in range array.length -1\n",
    "        index=i\n",
    "        for j in range i+1 to array.length\n",
    "            if array[j] < array[index]\n",
    "                index=j\n",
    "        if index not i\n",
    "            swap(array,index,i)\n",
    "end        "
   ]
  },
  {
   "cell_type": "code",
   "execution_count": 11,
   "metadata": {},
   "outputs": [],
   "source": [
    "def selectionsort(array):\n",
    "    #TC: O (n^2) SC: O(1)\n",
    "    for i in range(len(array)-1):\n",
    "        index=i\n",
    "        for j in range(i+1,len(array)):\n",
    "            if array[j]<array[index]:\n",
    "                index=j\n",
    "        if index != i:\n",
    "            swap(array,index,i)\n",
    "    return array\n",
    "def swap(array,index,i):\n",
    "    array[index],array[i]=array[i],array[index]"
   ]
  },
  {
   "cell_type": "code",
   "execution_count": 12,
   "metadata": {},
   "outputs": [
    {
     "name": "stdout",
     "output_type": "stream",
     "text": [
      "[-1, 2, 4, 77, 88, 99]\n"
     ]
    }
   ],
   "source": [
    "array=[-1,4,2,88,77,99]\n",
    "print(selectionsort(array))"
   ]
  },
  {
   "cell_type": "code",
   "execution_count": null,
   "metadata": {},
   "outputs": [],
   "source": []
  }
 ],
 "metadata": {
  "kernelspec": {
   "display_name": "Anaconda 3",
   "language": "python",
   "name": "python3"
  },
  "language_info": {
   "codemirror_mode": {
    "name": "ipython",
    "version": 3
   },
   "file_extension": ".py",
   "mimetype": "text/x-python",
   "name": "python",
   "nbconvert_exporter": "python",
   "pygments_lexer": "ipython3",
   "version": "3.7.3"
  }
 },
 "nbformat": 4,
 "nbformat_minor": 2
}
