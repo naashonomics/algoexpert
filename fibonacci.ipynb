{
 "cells": [
  {
   "cell_type": "markdown",
   "metadata": {},
   "source": [
    "# Recurssion\n"
   ]
  },
  {
   "cell_type": "code",
   "execution_count": 34,
   "metadata": {},
   "outputs": [],
   "source": [
    "#fibonacci \n",
    "# 0,1,1,2,3,5........\n",
    "#TC: O(2^n)\n",
    "#SC: O(n)\n",
    "def fib1(n):\n",
    "    if n==1:\n",
    "        return 0\n",
    "    elif n==2:\n",
    "        return 1\n",
    "    else:\n",
    "        return (fib1(n-1)+fib1(n-2))\n",
    "\n",
    "#TC: O(n)\n",
    "#SC: O(n) \n",
    "def fib2(n, memorise={1:0,2:1}):\n",
    "    if n in memorise:\n",
    "        return memorise[n]\n",
    "    else:\n",
    "        memorise[n]= fib2(n-1, memorise) + fib2(n-2, memorise)\n",
    "        return memorise[n]\n",
    "\n",
    "#TC: O(n)\n",
    "#SC : O(1)\n",
    "def fib3(n):\n",
    "    last_two=[0,1]\n",
    "    counter=3\n",
    "    while counter <= n:\n",
    "        next_fib= last_two[0] + last_two[1]\n",
    "        last_two[0]=last_two[1]\n",
    "        last_two[1]=next_fib\n",
    "        counter += 1\n",
    "    return last_two[1] if n >1 else last_two[0]"
   ]
  },
  {
   "cell_type": "code",
   "execution_count": 41,
   "metadata": {},
   "outputs": [
    {
     "name": "stdout",
     "output_type": "stream",
     "text": [
      "5\n"
     ]
    }
   ],
   "source": [
    "n=6\n",
    "print(fib1(n))"
   ]
  },
  {
   "cell_type": "code",
   "execution_count": 42,
   "metadata": {},
   "outputs": [
    {
     "name": "stdout",
     "output_type": "stream",
     "text": [
      "5\n"
     ]
    }
   ],
   "source": [
    "n=6\n",
    "print(fib3(n))"
   ]
  },
  {
   "cell_type": "code",
   "execution_count": null,
   "metadata": {},
   "outputs": [],
   "source": []
  }
 ],
 "metadata": {
  "kernelspec": {
   "display_name": "Anaconda 3",
   "language": "python",
   "name": "python3"
  },
  "language_info": {
   "codemirror_mode": {
    "name": "ipython",
    "version": 3
   },
   "file_extension": ".py",
   "mimetype": "text/x-python",
   "name": "python",
   "nbconvert_exporter": "python",
   "pygments_lexer": "ipython3",
   "version": "3.7.3"
  }
 },
 "nbformat": 4,
 "nbformat_minor": 2
}
