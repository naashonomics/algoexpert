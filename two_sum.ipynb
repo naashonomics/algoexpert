{
 "cells": [
  {
   "cell_type": "markdown",
   "metadata": {},
   "source": [
    "## Two Sum"
   ]
  },
  {
   "cell_type": "markdown",
   "metadata": {},
   "source": [
    "The two sum problem is a common interview question, and it is a variation of the subset sum problem. There is a popular dynamic programming solution for the subset sum problem, but for the two sum problem we can actually write an algorithm that runs in O(n) time. The challenge is to find all the pairs of two integers in an unsorted array that sum up to a given S. \n",
    "\n",
    "For example, if the array is [3, 5, 2, -4, 8, 11] and the sum is 7, your program should return [[11, -4], [2, 5]] because 11 + -4 = 7 and 2 + 5 = 7.\n",
    "https://www.algoexpert.io/questions/Two%20Number%20Sum "
   ]
  },
  {
   "cell_type": "code",
   "execution_count": 43,
   "metadata": {},
   "outputs": [],
   "source": [
    "def twosum1(array,targetsum):\n",
    "    #O(n2) :TC O(1):SC\n",
    "    for i in range(len(array)-1):\n",
    "        firstnum=array[i]\n",
    "        for j in range(i+1,len(array)):\n",
    "            secondnum=array[j]\n",
    "            if firstnum + secondnum == targetsum:\n",
    "                return [firstnum,secondnum]\n",
    "    return[]\n",
    "\n",
    "def twosum2(array,targetsum):\n",
    "    #O(N) TC O(n) SC \n",
    "    nums={}\n",
    "    for num in array:\n",
    "        potentialmatch=targetsum-num\n",
    "        if potentialmatch in nums:\n",
    "            return [potentialmatch,num]\n",
    "        else:\n",
    "            nums[num]=True\n",
    "    return []\n",
    "def twosum3(array,targetsum):\n",
    "    #O(nlogn) SC:O(1)\n",
    "    array.sort()\n",
    "    left=0\n",
    "    right=len(array)-1\n",
    "    while left < right:\n",
    "        currentsum=array[left]+array[right]\n",
    "        if currentsum==targetsum:\n",
    "            return [array[left],array[right]]\n",
    "        elif currentsum < targetsum:\n",
    "            left=left+1\n",
    "        elif currentsum > targetsum:\n",
    "            right=right-1\n",
    "    return [] "
   ]
  },
  {
   "cell_type": "code",
   "execution_count": 44,
   "metadata": {},
   "outputs": [
    {
     "name": "stdout",
     "output_type": "stream",
     "text": [
      "ALL TEST CASES PASSED\n",
      "ALL TEST CASES PASSED\n",
      "ALL TEST CASES PASSED\n"
     ]
    }
   ],
   "source": [
    "from nose.tools import assert_equal\n",
    "\n",
    "class twosum_1(object):\n",
    "    \n",
    "    def test(self,sol):\n",
    "        assert_equal(sol([4,6],10),[4,6])\n",
    "        assert_equal(sol([3,5,-4,8,11,1,-1,6],15),[])\n",
    "        assert_equal(sol([1,2,3,4,5,6,7,8,9],17),[8,9])\n",
    "        print(\"ALL TEST CASES PASSED\")\n",
    "\n",
    "class twosum_2(object):\n",
    "    \n",
    "    def test(self,sol):\n",
    "        assert_equal(sol([4,6],10),[4,6])\n",
    "        assert_equal(sol([3,5,-4,8,11,1,-1,6],15),[])\n",
    "        assert_equal(sol([1,2,3,4,5,6,7,8,9],17),[8,9])\n",
    "        print(\"ALL TEST CASES PASSED\")\n",
    "\n",
    "class twosum_3(object):\n",
    "    \n",
    "    def test(self,sol):\n",
    "        assert_equal(sol([4,6],10),[4,6])\n",
    "        assert_equal(sol([3,5,-4,8,11,1,-1,6],15),[])\n",
    "        assert_equal(sol([1,2,3,4,5,6,7,8,9],17),[8,9])\n",
    "        print(\"ALL TEST CASES PASSED\")\n",
    "\n",
    "# Run Tests\n",
    "t_1 = twosum_1()\n",
    "t_1.test(twosum1)\n",
    "\n",
    "t_2 = twosum_2()\n",
    "t_2.test(twosum2)\n",
    "\n",
    "t_3 = twosum_3()\n",
    "t_3.test(twosum3)"
   ]
  },
  {
   "cell_type": "code",
   "execution_count": null,
   "metadata": {},
   "outputs": [],
   "source": []
  }
 ],
 "metadata": {
  "kernelspec": {
   "display_name": "Python 3",
   "language": "python",
   "name": "python3"
  },
  "language_info": {
   "codemirror_mode": {
    "name": "ipython",
    "version": 3
   },
   "file_extension": ".py",
   "mimetype": "text/x-python",
   "name": "python",
   "nbconvert_exporter": "python",
   "pygments_lexer": "ipython3",
   "version": "3.6.5"
  }
 },
 "nbformat": 4,
 "nbformat_minor": 2
}
